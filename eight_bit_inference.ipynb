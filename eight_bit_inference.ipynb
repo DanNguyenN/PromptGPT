{
 "cells": [
  {
   "attachments": {},
   "cell_type": "markdown",
   "metadata": {},
   "source": [
    "# Download all the Python Libraries"
   ]
  },
  {
   "cell_type": "code",
   "execution_count": null,
   "metadata": {},
   "outputs": [],
   "source": [
    "# Check if the copmuter is on google colab\n",
    "import sys\n",
    "if 'google.colab' in sys.modules:\n",
    "    print(\"Running on Google Colab\")\n",
    "    !pip install rich\n",
    "    !pip install -q -U bitsandbytes\n",
    "    !pip install -q -U git+https://github.com/huggingface/transformers.git \n",
    "    !pip install -q -U git+https://github.com/huggingface/peft.git\n",
    "    !pip install -q -U git+https://github.com/huggingface/accelerate.git\n",
    "    !pip install datasets\n",
    "    !pip install wandb\n",
    "    !pip install ray[tune]\n",
    "    !pip install langchain\n",
    "    !pip install session-info\n",
    "    !pip install scipy\n",
    "else:\n",
    "    print(\"Not running on Google Colab\")\n",
    "from rich import print\n",
    "import logging\n",
    "from pathlib import Path\n",
    "logger = logging.getLogger(__name__)\n",
    "#ROOT_PATH = Path(__file__).parent.parent\n",
    "import session_info\n",
    "session_info.show()"
   ]
  },
  {
   "attachments": {},
   "cell_type": "markdown",
   "metadata": {},
   "source": [
    "# Check the GPU env\n",
    "1. You can check the GPU in the Google Colab by clicking  and efficieny\n",
    "2. Check if the GPU can use bfloat16 most effective as most model are pre-trained with bfloat16"
   ]
  },
  {
   "cell_type": "code",
   "execution_count": null,
   "metadata": {},
   "outputs": [],
   "source": [
    "import torch\n",
    "from rich import print\n",
    "if torch.cuda.is_available():\n",
    "    !nvidia-smi\n",
    "    print(f\"GPU: {torch.cuda.get_device_name(0)}\")\n",
    "    print(\"Cuda capability: \", torch.cuda.get_device_capability(0))\n",
    "    '''\n",
    "    On pre-ampere hardware bf16 works, but doesn't provide speed-ups compared to fp32 matmul operations, and some matmul operations are failing outright, so this check is more like \"guaranteed to work and be performant\" than \"works somehow\".  https://github.com/pytorch/pytorch/issues/75427\n",
    "    '''\n",
    "    print(f\"bfloat16 support: { torch.cuda.is_bf16_supported()}\") "
   ]
  },
  {
   "attachments": {},
   "cell_type": "markdown",
   "metadata": {},
   "source": [
    "# Set the Seed Environment of the Notebook to ensure the reproducibility"
   ]
  },
  {
   "cell_type": "code",
   "execution_count": null,
   "metadata": {},
   "outputs": [],
   "source": [
    "from transformers import set_seed\n",
    "\n",
    "DEFAULT_SEED = 42\n",
    "\n",
    "set_seed( DEFAULT_SEED )"
   ]
  },
  {
   "attachments": {},
   "cell_type": "markdown",
   "metadata": {},
   "source": [
    "# Download the Tokenizers\n",
    "1. We are suing Dolly model which was trained on the Pythia model. Instead we are recreating the dollvy tokenizer from the Pythia tokenizer"
   ]
  },
  {
   "cell_type": "code",
   "execution_count": 3,
   "metadata": {},
   "outputs": [
    {
     "data": {
      "text/html": [
       "<pre style=\"white-space:pre;overflow-x:auto;line-height:normal;font-family:Menlo,'DejaVu Sans Mono',consolas,'Courier New',monospace\"><span style=\"color: #800080; text-decoration-color: #800080; font-weight: bold\">GPTNeoXTokenizerFast</span><span style=\"font-weight: bold\">(</span><span style=\"color: #808000; text-decoration-color: #808000\">name_or_path</span>=<span style=\"color: #008000; text-decoration-color: #008000\">'databricks/dolly-v2-3b'</span>, <span style=\"color: #808000; text-decoration-color: #808000\">vocab_size</span>=<span style=\"color: #008080; text-decoration-color: #008080; font-weight: bold\">50254</span>, \n",
       "<span style=\"color: #808000; text-decoration-color: #808000\">model_max_length</span>=<span style=\"color: #008080; text-decoration-color: #008080; font-weight: bold\">1000000000000000019884624838656</span>, <span style=\"color: #808000; text-decoration-color: #808000\">is_fast</span>=<span style=\"color: #00ff00; text-decoration-color: #00ff00; font-style: italic\">True</span>, <span style=\"color: #808000; text-decoration-color: #808000\">padding_side</span>=<span style=\"color: #008000; text-decoration-color: #008000\">'right'</span>, <span style=\"color: #808000; text-decoration-color: #808000\">truncation_side</span>=<span style=\"color: #008000; text-decoration-color: #008000\">'right'</span>, \n",
       "<span style=\"color: #808000; text-decoration-color: #808000\">special_tokens</span>=<span style=\"font-weight: bold\">{</span><span style=\"color: #008000; text-decoration-color: #008000\">'bos_token'</span>: <span style=\"color: #008000; text-decoration-color: #008000\">'&lt;|endoftext|&gt;'</span>, <span style=\"color: #008000; text-decoration-color: #008000\">'eos_token'</span>: <span style=\"color: #008000; text-decoration-color: #008000\">'&lt;|endoftext|&gt;'</span>, <span style=\"color: #008000; text-decoration-color: #008000\">'unk_token'</span>: <span style=\"color: #008000; text-decoration-color: #008000\">'&lt;|endoftext|&gt;'</span>, \n",
       "<span style=\"color: #008000; text-decoration-color: #008000\">'pad_token'</span>: <span style=\"color: #008000; text-decoration-color: #008000\">'&lt;|endoftext|&gt;'</span>, <span style=\"color: #008000; text-decoration-color: #008000\">'additional_special_tokens'</span>: <span style=\"font-weight: bold\">[</span><span style=\"color: #008000; text-decoration-color: #008000\">'### End'</span>, <span style=\"color: #008000; text-decoration-color: #008000\">'### Instruction:'</span>, <span style=\"color: #008000; text-decoration-color: #008000\">'### Response:'</span><span style=\"font-weight: bold\">]}</span>, \n",
       "<span style=\"color: #808000; text-decoration-color: #808000\">clean_up_tokenization_spaces</span>=<span style=\"color: #00ff00; text-decoration-color: #00ff00; font-style: italic\">True</span><span style=\"font-weight: bold\">)</span>\n",
       "</pre>\n"
      ],
      "text/plain": [
       "\u001b[1;35mGPTNeoXTokenizerFast\u001b[0m\u001b[1m(\u001b[0m\u001b[33mname_or_path\u001b[0m=\u001b[32m'databricks/dolly-v2-3b'\u001b[0m, \u001b[33mvocab_size\u001b[0m=\u001b[1;36m50254\u001b[0m, \n",
       "\u001b[33mmodel_max_length\u001b[0m=\u001b[1;36m1000000000000000019884624838656\u001b[0m, \u001b[33mis_fast\u001b[0m=\u001b[3;92mTrue\u001b[0m, \u001b[33mpadding_side\u001b[0m=\u001b[32m'right'\u001b[0m, \u001b[33mtruncation_side\u001b[0m=\u001b[32m'right'\u001b[0m, \n",
       "\u001b[33mspecial_tokens\u001b[0m=\u001b[1m{\u001b[0m\u001b[32m'bos_token'\u001b[0m: \u001b[32m'\u001b[0m\u001b[32m<\u001b[0m\u001b[32m|endoftext|\u001b[0m\u001b[32m>\u001b[0m\u001b[32m'\u001b[0m, \u001b[32m'eos_token'\u001b[0m: \u001b[32m'\u001b[0m\u001b[32m<\u001b[0m\u001b[32m|endoftext|\u001b[0m\u001b[32m>\u001b[0m\u001b[32m'\u001b[0m, \u001b[32m'unk_token'\u001b[0m: \u001b[32m'\u001b[0m\u001b[32m<\u001b[0m\u001b[32m|endoftext|\u001b[0m\u001b[32m>\u001b[0m\u001b[32m'\u001b[0m, \n",
       "\u001b[32m'pad_token'\u001b[0m: \u001b[32m'\u001b[0m\u001b[32m<\u001b[0m\u001b[32m|endoftext|\u001b[0m\u001b[32m>\u001b[0m\u001b[32m'\u001b[0m, \u001b[32m'additional_special_tokens'\u001b[0m: \u001b[1m[\u001b[0m\u001b[32m'### End'\u001b[0m, \u001b[32m'### Instruction:'\u001b[0m, \u001b[32m'### Response:'\u001b[0m\u001b[1m]\u001b[0m\u001b[1m}\u001b[0m, \n",
       "\u001b[33mclean_up_tokenization_spaces\u001b[0m=\u001b[3;92mTrue\u001b[0m\u001b[1m)\u001b[0m\n"
      ]
     },
     "metadata": {},
     "output_type": "display_data"
    }
   ],
   "source": [
    "from transformers import AutoTokenizer\n",
    "from rich import print \n",
    "# Special Tokens\n",
    "INSTRUCTION_KEY = \"### Instruction:\"\n",
    "INPUT_KEY = \"Input:\"\n",
    "RESPONSE_KEY = \"### Response:\"\n",
    "END_KEY = \"### End\"\n",
    "RESPONSE_KEY_NL = f\"{RESPONSE_KEY}\\n\"\n",
    "DEFAULT_SEED = 42\n",
    "\n",
    "PRETRAINED_MODEL_NAME_OR_PATH = \"databricks/dolly-v2-3b\"#\"databricks/dolly-v2-3b\"\n",
    "eleutherai_python_3b = \"EleutherAI/pythia-2.8b\"\n",
    "eleutherai_python_7b = \"EleutherAI/pythia-6.9b\"\n",
    "dolly_v2_tokenizer = AutoTokenizer.from_pretrained(PRETRAINED_MODEL_NAME_OR_PATH)\n",
    "print(dolly_v2_tokenizer)"
   ]
  },
  {
   "attachments": {},
   "cell_type": "markdown",
   "metadata": {},
   "source": [
    "# Download the Model\n",
    "1. Torch Datat"
   ]
  },
  {
   "attachments": {},
   "cell_type": "markdown",
   "metadata": {},
   "source": [
    "## Setup Bits and Butes Config"
   ]
  },
  {
   "attachments": {},
   "cell_type": "markdown",
   "metadata": {},
   "source": [
    "## 4 Bit Configuration"
   ]
  },
  {
   "cell_type": "code",
   "execution_count": null,
   "metadata": {},
   "outputs": [],
   "source": [
    "import torch\n",
    "from transformers import AutoTokenizer, AutoModelForCausalLM, BitsAndBytesConfig\n",
    "\n",
    "model_id = \"EleutherAI/gpt-neox-20b\"\n",
    "bnb_config = BitsAndBytesConfig(\n",
    "    load_in_4bit = False,\n",
    "    load_in_8bit  = True,\n",
    "    llm_int8_threshold = 6.0,\n",
    ")\n"
   ]
  },
  {
   "attachments": {},
   "cell_type": "markdown",
   "metadata": {},
   "source": [
    "## Download the LM Models\n",
    "Then we have to apply some preprocessing to the model to prepare it for training. For that use the `prepare_model_for_kbit_training` method from PEFT."
   ]
  },
  {
   "cell_type": "code",
   "execution_count": null,
   "metadata": {},
   "outputs": [],
   "source": [
    "from transformers import AutoModelForCausalLM\n",
    "def model_init():\n",
    "    if torch.cuda.is_available():\n",
    "        free_in_GB = int(torch.cuda.mem_get_info()[0]/1024**3)\n",
    "        max_memory = f'{int(torch.cuda.mem_get_info()[0]/1024**3)-2}GB'\n",
    "\n",
    "        n_gpus = torch.cuda.device_count()\n",
    "        print(f\"Number of GPUs: {n_gpus}\")\n",
    "        max_memory = {i: max_memory for i in range(n_gpus)}\n",
    "        print(f\"Max memory: {max_memory}\")\n",
    "        model = AutoModelForCausalLM.from_pretrained(\n",
    "            pretrained_model_name_or_path = PRETRAINED_MODEL_NAME_OR_PATH,\n",
    "            trust_remote_code = True,\n",
    "            use_cache = False,\n",
    "            torch_dtype =  torch.bfloat16 if torch.cuda.is_bf16_supported() else torch.float16,\n",
    "            device_map = \"auto\",\n",
    "            load_in_8bit = False,\n",
    "            load_in_4bit = True,\n",
    "            low_cpu_mem_usage = True, # low cpu memory usage is to be true when the device map is auto\n",
    "            max_memory =  max_memory,\n",
    "            quantization_config = bnb_config,\n",
    "        )\n",
    "        model.eval() # set the model to eval mode during inference\n",
    "        return model\n",
    "    else:\n",
    "        model = AutoModelForCausalLM.from_pretrained(\n",
    "            pretrained_model_name_or_path=PRETRAINED_MODEL_NAME_OR_PATH,\n",
    "            trust_remote_code = True,\n",
    "            use_cache = True,\n",
    "            torch_dtype =  torch.float32,\n",
    "            device_map = \"auto\",\n",
    "        )\n",
    "        model.eval() # set the model to eval mode during inference\n",
    "        return model\n",
    "\n",
    "model = model_init()\n",
    "\n",
    "print(model)"
   ]
  },
  {
   "attachments": {},
   "cell_type": "markdown",
   "metadata": {},
   "source": [
    "# Text Generation inference"
   ]
  },
  {
   "attachments": {},
   "cell_type": "markdown",
   "metadata": {},
   "source": [
    "## Stopping Criteria"
   ]
  },
  {
   "cell_type": "code",
   "execution_count": null,
   "metadata": {},
   "outputs": [],
   "source": [
    "from dataclasses import dataclass, field\n",
    "from typing import Optional, TypedDict, NamedTuple, List, Dict, Callable\n",
    "from transformers import (\n",
    "  StoppingCriteria,\n",
    "  StoppingCriteriaList,\n",
    ")\n",
    "@dataclass\n",
    "class StopOnTokens(StoppingCriteria):\n",
    "  stop_token_ids: List[int]\n",
    "  def __call__(self, input_ids: torch.LongTensor, scores: torch.FloatTensor, **kwargs) -> bool:\n",
    "    for stop_id in self.stop_token_ids:\n",
    "      if input_ids[0][-1] == stop_id:\n",
    "        return True\n",
    "    return False\n",
    "stop = StopOnTokens([dolly_v2_tokenizer.eos_token_id])\n",
    "stopping_criteria=StoppingCriteriaList([stop])"
   ]
  },
  {
   "attachments": {},
   "cell_type": "markdown",
   "metadata": {},
   "source": [
    "## Text Generation COnfiguration"
   ]
  },
  {
   "cell_type": "code",
   "execution_count": null,
   "metadata": {},
   "outputs": [],
   "source": [
    "from transformers import AutoModelForCausalLM, GenerationConfig\n",
    "import random\n",
    "generation_config =  GenerationConfig(\n",
    "    max_new_tokens = 256, # The maximum numbers of tokens to generate, ignoring the number of tokens in the prompt.\n",
    "    num_beams = 1, # 1 means no beam search instead greedy search\n",
    "    temperature = .2 , # Parameters for manipulation of the model output logits\n",
    "    top_p = 0.92, # Parameters for manipulation of the model output logits\n",
    "    top_k = 50, # Parameters to only select the top-k tokens, instead of sampling from the distribution\n",
    "    do_sample = True ,# select a random token from the top-k tokens (set to 0 to disable top-k sampling) instead of choosing the one with the highest probability\n",
    "    use_cache = True, # Whether or not the model should use the past last key/values attentions (if applicable to the model) to speed up decoding.\n",
    "    repetition_penalty = 1.02, # The parameter for repetition penalty. 1.0 means no penalty. See this paper for more details.\n",
    "    stopping_criteria = stopping_criteria, # Stopping criteria for generation (stop as soon as there are X beams finished)\n",
    ")"
   ]
  },
  {
   "attachments": {},
   "cell_type": "markdown",
   "metadata": {},
   "source": [
    "## Download the adaper config if not present"
   ]
  },
  {
   "cell_type": "code",
   "execution_count": null,
   "metadata": {},
   "outputs": [],
   "source": [
    "from peft import PeftConfig, PeftModel\n",
    "\n",
    "repo_name = \"Rami/dolly_prompt_generator\"\n",
    "config = PeftConfig.from_pretrained(repo_name) "
   ]
  },
  {
   "attachments": {},
   "cell_type": "markdown",
   "metadata": {},
   "source": [
    "## Combine the Model and Adapter"
   ]
  },
  {
   "cell_type": "code",
   "execution_count": null,
   "metadata": {},
   "outputs": [],
   "source": [
    "from peft import PeftConfig, PeftModel\n",
    "\n",
    "inference_model = None\n",
    "try:\n",
    "    inference_model = PeftModel.from_pretrained(\n",
    "        model,\n",
    "        repo_name,\n",
    "    )\n",
    "except NameError as e:\n",
    "    ## Donwload the model from the HFhub\n",
    "    model = model_init()\n",
    "    \n",
    "    inference_model = PeftModel.from_pretrained(\n",
    "        model,\n",
    "        repo_name,\n",
    "    )\n",
    "print(model)"
   ]
  },
  {
   "cell_type": "code",
   "execution_count": 3,
   "metadata": {},
   "outputs": [
    {
     "name": "stdout",
     "output_type": "stream",
     "text": [
      "dolly_prompt_generator.pt\n",
      "False\n"
     ]
    },
    {
     "data": {
      "text/plain": [
       "'\\n#model.save_pretrained(\"dolly_prompt_generator\" , save_config = True , from_pt = True)\\ntorch.save(\\n    {\"model_state_dict\", model.state_dict()},\\n    f = \"dolly_prompt_generator.pt\",\\n)\\n'"
      ]
     },
     "execution_count": 3,
     "metadata": {},
     "output_type": "execute_result"
    }
   ],
   "source": [
    "# Save the model\n",
    "# Path Files\n",
    "from pathlib import Path\n",
    "DOLLY_PROMPT_GENERATOR_PATH = Path(\"dolly_prompt_generator.pt\")\n",
    "#model.save_pretrained(\"dolly_prompt_generator\" , save_config = True , from_pt = True)\n",
    "torch.save(\n",
    "    {\"model_state_dict\", model.state_dict()},\n",
    "    f = DOLLY_PROMPT_GENERATOR_PATH,\n",
    ")"
   ]
  },
  {
   "attachments": {},
   "cell_type": "markdown",
   "metadata": {},
   "source": [
    "# Export to ONNX"
   ]
  },
  {
   "cell_type": "code",
   "execution_count": null,
   "metadata": {},
   "outputs": [],
   "source": [
    "'''\n",
    "from optimum.onnxruntime import ORTModelForCausalLM\n",
    "from transformers import AutoTokenizer\n",
    "save_directory = \"onnx/\"\n",
    "\n",
    "\n",
    "# Load a model from transformers and export it to ONNX\n",
    "ort_model = ORTModelForCausalLM.from_pretrained(\n",
    "    model_id = DOLLY_PROMPT_GENERATOR_PATH,\n",
    "    export = True,\n",
    ")\n",
    "\n",
    "# Save the onnx model and tokenizer\n",
    "ort_model.save_pretrained(save_directory)\n",
    "'''"
   ]
  },
  {
   "attachments": {},
   "cell_type": "markdown",
   "metadata": {},
   "source": [
    "## Create the Instruction Generation Pipeline"
   ]
  },
  {
   "cell_type": "code",
   "execution_count": null,
   "metadata": {},
   "outputs": [],
   "source": [
    "import logging\n",
    "import re\n",
    "from typing import List\n",
    "\n",
    "import numpy as np\n",
    "from transformers import Pipeline, PreTrainedTokenizer\n",
    "\n",
    "\n",
    "logger = logging.getLogger(__name__)\n",
    "\n",
    "INSTRUCTION_KEY = \"### Instruction:\"\n",
    "RESPONSE_KEY = \"### Response:\"\n",
    "END_KEY = \"### End\"\n",
    "INTRO_BLURB = (\n",
    "    \"Below is an instruction that describes a task. Write a response that appropriately completes the request.\"\n",
    ")\n",
    "\n",
    "# This is the prompt that is used for generating responses using an already trained model.  It ends with the response\n",
    "# key, where the job of the model is to provide the completion that follows it (i.e. the response itself).\n",
    "PROMPT_FOR_GENERATION_FORMAT = \"\"\"{intro}\n",
    "{instruction_key}\n",
    "{instruction}\n",
    "{response_key}\n",
    "\"\"\".format(\n",
    "    intro=INTRO_BLURB,\n",
    "    instruction_key=INSTRUCTION_KEY,\n",
    "    instruction=\"{instruction}\",\n",
    "    response_key=RESPONSE_KEY,\n",
    ")\n",
    "\n",
    "\n",
    "def get_special_token_id(tokenizer: PreTrainedTokenizer, key: str) -> int:\n",
    "    \"\"\"Gets the token ID for a given string that has been added to the tokenizer as a special token.\n",
    "    When training, we configure the tokenizer so that the sequences like \"### Instruction:\" and \"### End\" are\n",
    "    treated specially and converted to a single, new token.  This retrieves the token ID each of these keys map to.\n",
    "    Args:\n",
    "        tokenizer (PreTrainedTokenizer): the tokenizer\n",
    "        key (str): the key to convert to a single token\n",
    "    Raises:\n",
    "        RuntimeError: if more than one ID was generated\n",
    "    Returns:\n",
    "        int: the token ID for the given key\n",
    "    \"\"\"\n",
    "    token_ids = tokenizer.encode(key)\n",
    "    if len(token_ids) > 1:\n",
    "        raise ValueError(f\"Expected only a single token for '{key}' but found {token_ids}\")\n",
    "    return token_ids[0]\n",
    "\n",
    "from transformers import AutoModelForCausalLM, GenerationConfig\n",
    "class InstructionTextGenerationPipeline(Pipeline):\n",
    "    def __init__(\n",
    "        self, \n",
    "        generation_config: GenerationConfig = None,\n",
    "        **kwargs,\n",
    "    ):\n",
    "        \"\"\"Initialize the pipeline\n",
    "        Args:\n",
    "            do_sample (bool, optional): Whether or not to use sampling. Defaults to True.\n",
    "            max_new_tokens (int, optional): Max new tokens after the prompt to generate. Defaults to 128.\n",
    "            top_p (float, optional): If set to float < 1, only the smallest set of most probable tokens with\n",
    "                probabilities that add up to top_p or higher are kept for generation. Defaults to 0.92.\n",
    "            top_k (int, optional): The number of highest probability vocabulary tokens to keep for top-k-filtering.\n",
    "                Defaults to 0.\n",
    "        \"\"\"\n",
    "        self.generation_config: GenerationConfig = generation_config\n",
    "        super().__init__(**kwargs)\n",
    "\n",
    "    def _sanitize_parameters(self,\n",
    "                             return_full_text: bool = None,\n",
    "                             **generate_kwargs):\n",
    "        preprocess_params = {}\n",
    "        assert self.generation_config is not None, \"Generation config is not initialized.\"\n",
    "\n",
    "        # newer versions of the tokenizer configure the response key as a special token.  newer versions still may\n",
    "        # append a newline to yield a single token.  find whatever token is configured for the response key.\n",
    "        tokenizer_response_key = next(\n",
    "            (token for token in self.tokenizer.additional_special_tokens if token.startswith(RESPONSE_KEY)), None\n",
    "        )\n",
    "\n",
    "        response_key_token_id = None\n",
    "        end_key_token_id = None\n",
    "        if tokenizer_response_key:\n",
    "            try:\n",
    "                response_key_token_id = get_special_token_id(self.tokenizer, tokenizer_response_key)\n",
    "                end_key_token_id = get_special_token_id(self.tokenizer, END_KEY)\n",
    "\n",
    "                # Ensure generation stops once it generates \"### End\"\n",
    "                generate_kwargs[\"eos_token_id\"] = end_key_token_id\n",
    "                self.generation_config.eos_token_id = end_key_token_id\n",
    "            except ValueError:\n",
    "                pass\n",
    "\n",
    "        forward_params = generate_kwargs\n",
    "        postprocess_params = {\n",
    "            \"response_key_token_id\": response_key_token_id,\n",
    "            \"end_key_token_id\": end_key_token_id\n",
    "        }\n",
    "\n",
    "        if return_full_text is not None:\n",
    "            postprocess_params[\"return_full_text\"] = return_full_text\n",
    "            print(postprocess_params)\n",
    "\n",
    "        return preprocess_params, forward_params, postprocess_params\n",
    "\n",
    "    def preprocess(self, instruction_text, **generate_kwargs):\n",
    "        prompt_text = PROMPT_FOR_GENERATION_FORMAT.format(instruction=instruction_text)\n",
    "        inputs = self.tokenizer(\n",
    "            prompt_text,\n",
    "            return_tensors=\"pt\",\n",
    "        )\n",
    "        inputs[\"prompt_text\"] = prompt_text\n",
    "        inputs[\"instruction_text\"] = instruction_text\n",
    "        return inputs\n",
    "    ## Only Once\n",
    "    def _forward(self, model_inputs , eos_token_id):\n",
    "        assert self.model is not None, \"Model is not initialized.\"\n",
    "        assert self.generation_config is not None, \"Generation config is not initialized.\"\n",
    "        assert self.tokenizer is not None, \"Tokenizer is not initialized.\"\n",
    "        assert self.tokenizer.pad_token_id is not None, \"Tokenizer does not have a pad token ID.\"\n",
    "        print(self.generation_config)\n",
    "        input_ids = model_inputs[\"input_ids\"]\n",
    "        attention_mask = model_inputs.get(\"attention_mask\", None)\n",
    "\n",
    "        if input_ids.shape[1] == 0:\n",
    "            input_ids = None\n",
    "            attention_mask = None\n",
    "            in_b = 1\n",
    "        else:\n",
    "            in_b = input_ids.shape[0]\n",
    "\n",
    "        generated_sequence = self.model.generate(\n",
    "            input_ids=input_ids.to(self.model.device),\n",
    "            attention_mask=attention_mask.to(self.model.device) if attention_mask is not None else None,\n",
    "            pad_token_id=self.tokenizer.pad_token_id,\n",
    "            generation_config=self.generation_config,\n",
    "        )\n",
    "\n",
    "        out_b = generated_sequence.shape[0]\n",
    "        if self.framework == \"pt\":\n",
    "            generated_sequence = generated_sequence.reshape(in_b, out_b // in_b, *generated_sequence.shape[1:])\n",
    "        elif self.framework == \"tf\":\n",
    "            generated_sequence = tf.reshape(generated_sequence, (in_b, out_b // in_b, *generated_sequence.shape[1:]))\n",
    "\n",
    "        instruction_text = model_inputs.pop(\"instruction_text\")\n",
    "        return {\"generated_sequence\": generated_sequence, \"input_ids\": input_ids, \"instruction_text\": instruction_text}\n",
    "\n",
    "    def postprocess(self, model_outputs, response_key_token_id, end_key_token_id, return_full_text: bool = False):\n",
    "\n",
    "        generated_sequence = model_outputs[\"generated_sequence\"][0]\n",
    "        instruction_text = model_outputs[\"instruction_text\"]\n",
    "\n",
    "        generated_sequence: List[List[int]] = generated_sequence.numpy().tolist()\n",
    "        records = []\n",
    "        for sequence in generated_sequence:\n",
    "\n",
    "            # The response will be set to this variable if we can identify it.\n",
    "            decoded = None\n",
    "\n",
    "            # If we have token IDs for the response and end, then we can find the tokens and only decode between them.\n",
    "            if response_key_token_id and end_key_token_id:\n",
    "                # Find where \"### Response:\" is first found in the generated tokens.  Considering this is part of the\n",
    "                # prompt, we should definitely find it.  We will return the tokens found after this token.\n",
    "                try:\n",
    "                    response_pos = sequence.index(response_key_token_id)\n",
    "                except ValueError:\n",
    "                    logger.warn(f\"Could not find response key {response_key_token_id} in: {sequence}\")\n",
    "                    response_pos = None\n",
    "\n",
    "                if response_pos:\n",
    "                    # Next find where \"### End\" is located.  The model has been trained to end its responses with this\n",
    "                    # sequence (or actually, the token ID it maps to, since it is a special token).  We may not find\n",
    "                    # this token, as the response could be truncated.  If we don't find it then just return everything\n",
    "                    # to the end.  Note that even though we set eos_token_id, we still see the this token at the end.\n",
    "                    try:\n",
    "                        end_pos = sequence.index(end_key_token_id)\n",
    "                    except ValueError:\n",
    "                        end_pos = None\n",
    "\n",
    "                    decoded = self.tokenizer.decode(sequence[response_pos + 1 : end_pos]).strip()\n",
    "\n",
    "            if not decoded:\n",
    "                # Otherwise we'll decode everything and use a regex to find the response and end.\n",
    "\n",
    "                fully_decoded = self.tokenizer.decode(sequence)\n",
    "\n",
    "                # The response appears after \"### Response:\".  The model has been trained to append \"### End\" at the\n",
    "                # end.\n",
    "                m = re.search(r\"#+\\s*Response:\\s*(.+?)#+\\s*End\", fully_decoded, flags=re.DOTALL)\n",
    "\n",
    "                if m:\n",
    "                    decoded = m.group(1).strip()\n",
    "                else:\n",
    "                    # The model might not generate the \"### End\" sequence before reaching the max tokens.  In this case,\n",
    "                    # return everything after \"### Response:\".\n",
    "                    m = re.search(r\"#+\\s*Response:\\s*(.+)\", fully_decoded, flags=re.DOTALL)\n",
    "                    if m:\n",
    "                        decoded = m.group(1).strip()\n",
    "                    else:\n",
    "                        logger.warn(f\"Failed to find response in:\\n{fully_decoded}\")\n",
    "\n",
    "            # If the full text is requested, then append the decoded text to the original instruction.\n",
    "            # This technically isn't the full text, as we format the instruction in the prompt the model has been\n",
    "            # trained on, but to the client it will appear to be the full text.\n",
    "            if return_full_text:\n",
    "                decoded = f\"{instruction_text}\\n{decoded}\"\n",
    "\n",
    "            rec = {\"generated_text\": decoded}\n",
    "\n",
    "            records.append(rec)\n",
    "\n",
    "        return records"
   ]
  },
  {
   "cell_type": "code",
   "execution_count": null,
   "metadata": {},
   "outputs": [],
   "source": [
    "from rich import print\n",
    "generate_text = InstructionTextGenerationPipeline(model=model,\n",
    "                                                  tokenizer = dolly_v2_tokenizer, \n",
    "                                                  task=\"text-generation\" , \n",
    "                                                  return_full_text=True,\n",
    "                                                  generation_config=generation_config)\n",
    "                                                  \n",
    "print(generate_text.task)\n",
    "print(generate_text._sanitize_parameters())"
   ]
  },
  {
   "attachments": {},
   "cell_type": "markdown",
   "metadata": {},
   "source": [
    "## Langchain Prompt with Hugging Face Pipeline"
   ]
  },
  {
   "cell_type": "code",
   "execution_count": null,
   "metadata": {},
   "outputs": [],
   "source": [
    "from langchain import PromptTemplate, LLMChain\n",
    "from langchain.llms import HuggingFacePipeline\n",
    "\n",
    "# template for an instrution with no input\n",
    "prompt = PromptTemplate(\n",
    "    input_variables=[\"instruction\"],\n",
    "    template=\"{instruction}\")\n",
    "\n",
    "# template for an instruction with input\n",
    "prompt_with_context = PromptTemplate(\n",
    "    input_variables=[\"instruction\", \"context\"],\n",
    "    template=\"{instruction}\\n\\nInput:\\n{context}\")\n",
    "\n",
    "hf_pipeline = HuggingFacePipeline(pipeline=generate_text)\n",
    "\n",
    "llm_chain = LLMChain(llm=hf_pipeline, prompt=prompt)\n",
    "llm_context_chain = LLMChain(llm=hf_pipeline, prompt=prompt_with_context)"
   ]
  },
  {
   "cell_type": "code",
   "execution_count": null,
   "metadata": {},
   "outputs": [],
   "source": [
    "GENERATE_PROMPT_INSTRUCTION = \"Given a prompt from the user that was meant to be feed into a GPT style model , rewrite the prompt that will improve the quality of the generated text.\""
   ]
  },
  {
   "cell_type": "code",
   "execution_count": 3,
   "metadata": {},
   "outputs": [
    {
     "name": "stdout",
     "output_type": "stream",
     "text": [
      "Loading model and tokenizer...\n",
      "Running on local URL:  http://127.0.0.1:7862\n",
      "\n",
      "To create a public link, set `share=True` in `launch()`.\n"
     ]
    },
    {
     "data": {
      "text/html": [
       "<div><iframe src=\"http://127.0.0.1:7862/\" width=\"100%\" height=\"500\" allow=\"autoplay; camera; microphone; clipboard-read; clipboard-write;\" frameborder=\"0\" allowfullscreen></iframe></div>"
      ],
      "text/plain": [
       "<IPython.core.display.HTML object>"
      ]
     },
     "metadata": {},
     "output_type": "display_data"
    },
    {
     "data": {
      "text/plain": []
     },
     "execution_count": 3,
     "metadata": {},
     "output_type": "execute_result"
    },
    {
     "name": "stdout",
     "output_type": "stream",
     "text": [
      "Generating...\n"
     ]
    },
    {
     "name": "stderr",
     "output_type": "stream",
     "text": [
      "Traceback (most recent call last):\n",
      "  File \"/tmp/ipykernel_3772/2959325698.py\", line 20, in generate\n",
      "    output_json = builder()\n",
      "NameError: name 'builder' is not defined\n",
      "\n",
      "During handling of the above exception, another exception occurred:\n",
      "\n",
      "Traceback (most recent call last):\n",
      "  File \"/home/null/miniconda3/envs/temoctalk/lib/python3.10/site-packages/gradio/routes.py\", line 414, in run_predict\n",
      "    output = await app.get_blocks().process_api(\n",
      "  File \"/home/null/miniconda3/envs/temoctalk/lib/python3.10/site-packages/gradio/blocks.py\", line 1320, in process_api\n",
      "    result = await self.call_function(\n",
      "  File \"/home/null/miniconda3/envs/temoctalk/lib/python3.10/site-packages/gradio/blocks.py\", line 1048, in call_function\n",
      "    prediction = await anyio.to_thread.run_sync(\n",
      "  File \"/home/null/.local/lib/python3.10/site-packages/anyio/to_thread.py\", line 31, in run_sync\n",
      "    return await get_asynclib().run_sync_in_worker_thread(\n",
      "  File \"/home/null/.local/lib/python3.10/site-packages/anyio/_backends/_asyncio.py\", line 937, in run_sync_in_worker_thread\n",
      "    return await future\n",
      "  File \"/home/null/.local/lib/python3.10/site-packages/anyio/_backends/_asyncio.py\", line 867, in run\n",
      "    result = context.run(func, *args)\n",
      "  File \"/tmp/ipykernel_3772/2959325698.py\", line 23, in generate\n",
      "    raise gr.Error(e)\n",
      "gradio.exceptions.Error: NameError(\"name 'builder' is not defined\")\n"
     ]
    }
   ],
   "source": [
    "import json\n",
    "import gradio as gr\n",
    "from transformers import AutoModelForCausalLM, AutoTokenizer\n",
    "\n",
    "print(\"Loading model and tokenizer...\")\n",
    "\n",
    "def generate(input_prompt):\n",
    "    try:\n",
    "        if not input_prompt:\n",
    "            raise ValueError(\"Prompt is empty\")\n",
    "        return llm_context_chain.predict(\n",
    "            instruction = GENERATE_PROMPT_INSTRUCTION,\n",
    "            context  = input_prompt ).lstrip()\n",
    "    except Exception as e:\n",
    "        raise gr.Error(e)\n",
    "css = \"\"\"\n",
    "#examples {\n",
    "    width: 35rem;\n",
    "}\n",
    "\"\"\"\n",
    "with gr.Blocks(css=css) as demo:\n",
    "    with gr.Row():\n",
    "        with gr.Column(scale=1, min_width=600):\n",
    "            input_prompt = gr.TextArea(\"\", label=\"Feed your Prompt in the Text Box\", lines=2)\n",
    "            generate_btn = gr.Button(\"Generate\")\n",
    "        with gr.Column(scale=1, min_width=600):\n",
    "            output_json = gr.TextArea(label=\"Generate a new Prompt\")\n",
    "    \n",
    "    generate_btn.click(fn=generate, inputs=[input_prompt], outputs=output_json, api_name=\"greet\")\n",
    "\n",
    "demo.launch()\n"
   ]
  },
  {
   "cell_type": "code",
   "execution_count": null,
   "metadata": {},
   "outputs": [],
   "source": [
    "print(\n",
    "    llm_context_chain.predict(\n",
    "        instruction = GENERATE_PROMPT_INSTRUCTION,\n",
    "        context=\"A product description on an E-commerce website\")\n",
    "    .lstrip()\n",
    ")\n"
   ]
  },
  {
   "attachments": {},
   "cell_type": "markdown",
   "metadata": {},
   "source": [
    "# References\n",
    "[1] [Dolly Github](https://github.com/databrickslabs/dolly/blob/5021d941d95dddcf1f00d978d7f944709873f419/training/trainer.py#L138)\n",
    "[2] https://gist.github.com/Birch-san/57878c4a27cf34f57d3e861865a7d0a2\n",
    "[3] https://github.com/artidoro/qlora/blob/main/qlora.py \n",
    "[4] https://github.com/tloen/alpaca-lora/blob/main/finetune.py "
   ]
  }
 ],
 "metadata": {
  "kernelspec": {
   "display_name": "temoctalk",
   "language": "python",
   "name": "python3"
  },
  "language_info": {
   "codemirror_mode": {
    "name": "ipython",
    "version": 3
   },
   "file_extension": ".py",
   "mimetype": "text/x-python",
   "name": "python",
   "nbconvert_exporter": "python",
   "pygments_lexer": "ipython3",
   "version": "3.10.10"
  },
  "orig_nbformat": 4
 },
 "nbformat": 4,
 "nbformat_minor": 2
}
