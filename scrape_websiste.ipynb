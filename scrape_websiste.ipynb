{
 "cells": [
  {
   "cell_type": "code",
   "execution_count": 2,
   "metadata": {},
   "outputs": [],
   "source": [
    "import requests\n",
    "from bs4 import BeautifulSoup\n",
    "\n",
    "def scrape_prompts(integer):\n",
    "    url = f\"https://library.easyprompt.xyz/prompt/{integer}\"\n",
    "    response = requests.get(url)\n",
    "    soup = BeautifulSoup(response.content, \"html.parser\")\n",
    "    prompts = soup.find_all(\"div\", class_=\"prompt\")\n",
    "\n",
    "    for prompt in prompts:\n",
    "        print(prompt.get_text())\n",
    "\n",
    "# Specify the integer value for the URL\n",
    "integer_value = 123\n",
    "\n",
    "# Call the scrape_prompts function\n",
    "scrape_prompts(integer_value)"
   ]
  },
  {
   "cell_type": "code",
   "execution_count": 4,
   "metadata": {},
   "outputs": [],
   "source": [
    "url = f\"https://library.easyprompt.xyz/prompt/123\"\n",
    "response = requests.get(url)\n",
    "soup = BeautifulSoup(response.content, 'html.parser')\n",
    "#prompt_content = soup.find('div', class_='prompt-content').get_text()"
   ]
  },
  {
   "cell_type": "code",
   "execution_count": 7,
   "metadata": {},
   "outputs": [
    {
     "name": "stdout",
     "output_type": "stream",
     "text": [
      "Craft a LinkedIn Headline that effectively communicates your professional identity and personal brand to your network and potential employers. Your headline should be concise and attention-grabbing, and should convey your key skills, experiences, and career goals. Consider using industry-specific keywords that are relevant to your field and that potential employers may search for. Your headline should also showcase your unique value proposition and differentiate you from other professionals in your field. Additionally, consider including any relevant certifications, degrees, or awards that are pertinent to your professional identity. Finally, ensure that your headline aligns with your overall LinkedIn profile and accurately reflects your current professional status.\n",
      "\n",
      "Example Context: You are a freelance graphic designer with over five years of experience in the industry. You specialize in branding and identity design for small businesses and startups. Your goal is to attract potential clients and showcase your expertise in your field. Your LinkedIn Headline should be written in a way that appeals to business owners and entrepreneurs looking for high-quality branding services.\n",
      "LinkedIn Headline\n"
     ]
    }
   ],
   "source": [
    "print(soup.find('div', class_=\"utils_response__b5jEi\").get_text())\n",
    "print(soup.find('p', class_=\"text-xl font-display\").get_text())"
   ]
  },
  {
   "cell_type": "code",
   "execution_count": 2,
   "metadata": {},
   "outputs": [],
   "source": [
    "from dotenv import load_dotenv\n",
    "\n",
    "load_dotenv()\n",
    "\n",
    "import os\n",
    "\n",
    "HF_KEY = os.getenv(\"HF_KEY\")"
   ]
  },
  {
   "cell_type": "code",
   "execution_count": 11,
   "metadata": {},
   "outputs": [
    {
     "name": "stderr",
     "output_type": "stream",
     "text": [
      "Found cached dataset csv (/home/null/.cache/huggingface/datasets/csv/default-3022fbe3053ce4fa/0.0.0/6954658bab30a358235fa864b05cf819af0e179325c740e4bc853bcc7ec513e1)\n"
     ]
    },
    {
     "data": {
      "application/vnd.jupyter.widget-view+json": {
       "model_id": "4554ca77e1d7474f8b3297cb22220f0e",
       "version_major": 2,
       "version_minor": 0
      },
      "text/plain": [
       "  0%|          | 0/1 [00:00<?, ?it/s]"
      ]
     },
     "metadata": {},
     "output_type": "display_data"
    },
    {
     "data": {
      "text/html": [
       "<pre style=\"white-space:pre;overflow-x:auto;line-height:normal;font-family:Menlo,'DejaVu Sans Mono',consolas,'Courier New',monospace\"><span style=\"color: #800080; text-decoration-color: #800080; font-weight: bold\">DatasetDict</span><span style=\"font-weight: bold\">({</span>\n",
       "    train: <span style=\"color: #800080; text-decoration-color: #800080; font-weight: bold\">Dataset</span><span style=\"font-weight: bold\">({</span>\n",
       "        features: <span style=\"font-weight: bold\">[</span><span style=\"color: #008000; text-decoration-color: #008000\">'base_prompt'</span>, <span style=\"color: #008000; text-decoration-color: #008000\">'improved_prompt'</span>, <span style=\"color: #008000; text-decoration-color: #008000\">'views'</span><span style=\"font-weight: bold\">]</span>,\n",
       "        num_rows: <span style=\"color: #008080; text-decoration-color: #008080; font-weight: bold\">341</span>\n",
       "    <span style=\"font-weight: bold\">})</span>\n",
       "<span style=\"font-weight: bold\">})</span>\n",
       "</pre>\n"
      ],
      "text/plain": [
       "\u001b[1;35mDatasetDict\u001b[0m\u001b[1m(\u001b[0m\u001b[1m{\u001b[0m\n",
       "    train: \u001b[1;35mDataset\u001b[0m\u001b[1m(\u001b[0m\u001b[1m{\u001b[0m\n",
       "        features: \u001b[1m[\u001b[0m\u001b[32m'base_prompt'\u001b[0m, \u001b[32m'improved_prompt'\u001b[0m, \u001b[32m'views'\u001b[0m\u001b[1m]\u001b[0m,\n",
       "        num_rows: \u001b[1;36m341\u001b[0m\n",
       "    \u001b[1m}\u001b[0m\u001b[1m)\u001b[0m\n",
       "\u001b[1m}\u001b[0m\u001b[1m)\u001b[0m\n"
      ]
     },
     "metadata": {},
     "output_type": "display_data"
    },
    {
     "name": "stderr",
     "output_type": "stream",
     "text": [
      "Loading cached processed dataset at /home/null/.cache/huggingface/datasets/csv/default-3022fbe3053ce4fa/0.0.0/6954658bab30a358235fa864b05cf819af0e179325c740e4bc853bcc7ec513e1/cache-d590dbc7d3cf59b5.arrow\n",
      "Loading cached processed dataset at /home/null/.cache/huggingface/datasets/csv/default-3022fbe3053ce4fa/0.0.0/6954658bab30a358235fa864b05cf819af0e179325c740e4bc853bcc7ec513e1/cache-f7ff69282f14ac54.arrow\n",
      "Pushing split train to the Hub.\n"
     ]
    },
    {
     "data": {
      "application/vnd.jupyter.widget-view+json": {
       "model_id": "2d59af368ef44c499ccaca6dae7915e4",
       "version_major": 2,
       "version_minor": 0
      },
      "text/plain": [
       "Pushing dataset shards to the dataset hub:   0%|          | 0/1 [00:00<?, ?it/s]"
      ]
     },
     "metadata": {},
     "output_type": "display_data"
    },
    {
     "data": {
      "application/vnd.jupyter.widget-view+json": {
       "model_id": "8d2ad40f97524a229d8161e36b077471",
       "version_major": 2,
       "version_minor": 0
      },
      "text/plain": [
       "Creating parquet from Arrow format:   0%|          | 0/1 [00:00<?, ?ba/s]"
      ]
     },
     "metadata": {},
     "output_type": "display_data"
    },
    {
     "data": {
      "application/vnd.jupyter.widget-view+json": {
       "model_id": "61bb55fc435745a1af6a3c0c214141f0",
       "version_major": 2,
       "version_minor": 0
      },
      "text/plain": [
       "Upload 1 LFS files:   0%|          | 0/1 [00:00<?, ?it/s]"
      ]
     },
     "metadata": {},
     "output_type": "display_data"
    },
    {
     "data": {
      "application/vnd.jupyter.widget-view+json": {
       "model_id": "bc43ad44a42c44a19b72b46e485a3d76",
       "version_major": 2,
       "version_minor": 0
      },
      "text/plain": [
       "Deleting unused files from dataset repository:   0%|          | 0/1 [00:00<?, ?it/s]"
      ]
     },
     "metadata": {},
     "output_type": "display_data"
    },
    {
     "data": {
      "application/vnd.jupyter.widget-view+json": {
       "model_id": "066ce27b57d04ddf903fa149ab5bf735",
       "version_major": 2,
       "version_minor": 0
      },
      "text/plain": [
       "Downloading metadata:   0%|          | 0.00/469 [00:00<?, ?B/s]"
      ]
     },
     "metadata": {},
     "output_type": "display_data"
    }
   ],
   "source": [
    "# convert a csv files into a datasets from the dataset libraries\n",
    "from datasets import load_dataset\n",
    "from rich import print\n",
    "\n",
    "dataset = load_dataset(\"csv\", data_files=\"prompt.csv\")\n",
    "print(dataset)\n",
    "\n",
    "dataset = dataset.map(lambda example: {\"instruction\":  \"Given a prompt from the user that was meant to be feed into a GPT style model , rewrite the prompt that will improve the quality of the generated text.\"})\n",
    "dataset = dataset.map(lambda example: {\"category\":  \"Rewrite the prompt to improve the quality of the generated text.\"})\n",
    "##rename the column of the base_prompt  to context \n",
    "dataset = dataset.rename_column(\"base_prompt\", \"context\")\n",
    "dataset = dataset.rename_column(\"improved_prompt\", \"response\")\n",
    "dataset.push_to_hub(\"Rami/prompts\")"
   ]
  }
 ],
 "metadata": {
  "kernelspec": {
   "display_name": "temoctalk",
   "language": "python",
   "name": "python3"
  },
  "language_info": {
   "codemirror_mode": {
    "name": "ipython",
    "version": 3
   },
   "file_extension": ".py",
   "mimetype": "text/x-python",
   "name": "python",
   "nbconvert_exporter": "python",
   "pygments_lexer": "ipython3",
   "version": "3.10.10"
  },
  "orig_nbformat": 4
 },
 "nbformat": 4,
 "nbformat_minor": 2
}
