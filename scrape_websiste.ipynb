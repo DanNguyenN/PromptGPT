{
 "cells": [
  {
   "cell_type": "code",
   "execution_count": 2,
   "metadata": {},
   "outputs": [],
   "source": [
    "import requests\n",
    "from bs4 import BeautifulSoup\n",
    "\n",
    "def scrape_prompts(integer):\n",
    "    url = f\"https://library.easyprompt.xyz/prompt/{integer}\"\n",
    "    response = requests.get(url)\n",
    "    soup = BeautifulSoup(response.content, \"html.parser\")\n",
    "    prompts = soup.find_all(\"div\", class_=\"prompt\")\n",
    "\n",
    "    for prompt in prompts:\n",
    "        print(prompt.get_text())\n",
    "\n",
    "# Specify the integer value for the URL\n",
    "integer_value = 123\n",
    "\n",
    "# Call the scrape_prompts function\n",
    "scrape_prompts(integer_value)"
   ]
  },
  {
   "cell_type": "code",
   "execution_count": 4,
   "metadata": {},
   "outputs": [],
   "source": [
    "url = f\"https://library.easyprompt.xyz/prompt/123\"\n",
    "response = requests.get(url)\n",
    "soup = BeautifulSoup(response.content, 'html.parser')\n",
    "#prompt_content = soup.find('div', class_='prompt-content').get_text()"
   ]
  },
  {
   "cell_type": "code",
   "execution_count": 7,
   "metadata": {},
   "outputs": [
    {
     "name": "stdout",
     "output_type": "stream",
     "text": [
      "Craft a LinkedIn Headline that effectively communicates your professional identity and personal brand to your network and potential employers. Your headline should be concise and attention-grabbing, and should convey your key skills, experiences, and career goals. Consider using industry-specific keywords that are relevant to your field and that potential employers may search for. Your headline should also showcase your unique value proposition and differentiate you from other professionals in your field. Additionally, consider including any relevant certifications, degrees, or awards that are pertinent to your professional identity. Finally, ensure that your headline aligns with your overall LinkedIn profile and accurately reflects your current professional status.\n",
      "\n",
      "Example Context: You are a freelance graphic designer with over five years of experience in the industry. You specialize in branding and identity design for small businesses and startups. Your goal is to attract potential clients and showcase your expertise in your field. Your LinkedIn Headline should be written in a way that appeals to business owners and entrepreneurs looking for high-quality branding services.\n",
      "LinkedIn Headline\n"
     ]
    }
   ],
   "source": [
    "print(soup.find('div', class_=\"utils_response__b5jEi\").get_text())\n",
    "print(soup.find('p', class_=\"text-xl font-display\").get_text())"
   ]
  }
 ],
 "metadata": {
  "kernelspec": {
   "display_name": "temoctalk",
   "language": "python",
   "name": "python3"
  },
  "language_info": {
   "codemirror_mode": {
    "name": "ipython",
    "version": 3
   },
   "file_extension": ".py",
   "mimetype": "text/x-python",
   "name": "python",
   "nbconvert_exporter": "python",
   "pygments_lexer": "ipython3",
   "version": "3.10.10"
  },
  "orig_nbformat": 4
 },
 "nbformat": 4,
 "nbformat_minor": 2
}
